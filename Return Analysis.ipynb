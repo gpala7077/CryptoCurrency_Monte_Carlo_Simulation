{
 "cells": [
  {
   "cell_type": "code",
   "execution_count": null,
   "outputs": [],
   "source": [
    "from Bitcoin_MonteCarlo import TimeSeries_MonteCarlo\n",
    "import pmdarima\n",
    "from arch import arch_model\n",
    "import numpy as np\n",
    "\n",
    "trading_days = 365\n",
    "horizon = 365\n",
    "model = 'Returns'\n",
    "simulations = 10\n",
    "options_info = dict(type='Asian', strike='geometric', interval=4) # Only necessary if model='Options', can be European or Asian.\n",
    "risk_free_rate = .03\n",
    "ticker = 'BTC-USD'\n",
    "arch_garch = dict(vol='GARCH', p=1, q=1, mean=\"Zero\", rescale=True, dist='normal') # These are default values, can be changed\n",
    "arima = dict(information_criterion='bic') # These are default values, can be changed\n",
    "period = 'max' # Can also have a start/end data,  dict(start='2000-01-01',end='2015-01-01')\n",
    "\n",
    "TS = TimeSeries_MonteCarlo(ticker=ticker, period=period, model=model, horizon=horizon, trading_days=trading_days, options_info=options_info, risk_free_rate=risk_free_rate, arima=arima,arch_garch=arch_garch)\n",
    "TS.RunSimulation(simulations)\n",
    "TS.Simulation_Statistics()"
   ],
   "metadata": {
    "collapsed": false,
    "pycharm": {
     "name": "#%%\n",
     "is_executing": true
    }
   }
  },
  {
   "cell_type": "code",
   "execution_count": null,
   "outputs": [],
   "source": [
    "arch_garch = dict(vol='GARCH', p=1, q=1, mean=\"Zero\", rescale=True, dist='t') # These are default values, can be changed\n",
    "TS = TimeSeries_MonteCarlo(ticker=ticker, period=period, model=model, horizon=horizon, trading_days=trading_days, options_info=options_info, risk_free_rate=risk_free_rate, arima=arima,arch_garch=arch_garch)\n",
    "TS.RunSimulation(simulations)\n",
    "TS.Simulation_Statistics()\n"
   ],
   "metadata": {
    "collapsed": false,
    "pycharm": {
     "name": "#%%\n"
    }
   }
  },
  {
   "cell_type": "code",
   "execution_count": null,
   "outputs": [],
   "source": [
    "arch_garch = dict(vol='GARCH', p=1, q=1, mean=\"Zero\", rescale=True, dist='skewt') # These are default values, can be changed\n",
    "TS = TimeSeries_MonteCarlo(ticker=ticker, period=period, model=model, horizon=horizon, trading_days=trading_days, options_info=options_info, risk_free_rate=risk_free_rate, arima=arima,arch_garch=arch_garch)\n",
    "TS.RunSimulation(simulations)\n",
    "TS.Simulation_Statistics()\n"
   ],
   "metadata": {
    "collapsed": false,
    "pycharm": {
     "name": "#%%\n"
    }
   }
  },
  {
   "cell_type": "code",
   "execution_count": null,
   "outputs": [],
   "source": [
    "arch_garch = dict(vol='GARCH', p=1, q=1, mean=\"Constant\", rescale=True, dist='normal') # These are default values, can be changed\n",
    "TS = TimeSeries_MonteCarlo(ticker=ticker, period=period, model=model, horizon=horizon, trading_days=trading_days, options_info=options_info, risk_free_rate=risk_free_rate, arima=arima,arch_garch=arch_garch)\n",
    "TS.RunSimulation(simulations)\n",
    "TS.Simulation_Statistics()\n",
    "\n",
    "\n",
    "# sigma^2_t = .0014 + .108 * return_(t-1)^2 + .892 * sigma^2_(t-1)\n"
   ],
   "metadata": {
    "collapsed": false,
    "pycharm": {
     "name": "#%%\n"
    }
   }
  },
  {
   "cell_type": "code",
   "execution_count": null,
   "outputs": [],
   "source": [
    "arch_garch = dict(vol='GARCH', p=1, q=1, mean=\"Constant\", rescale=True, dist='t') # These are default values, can be changed\n",
    "TS = TimeSeries_MonteCarlo(ticker=ticker, period=period, model=model, horizon=horizon, trading_days=trading_days, options_info=options_info, risk_free_rate=risk_free_rate, arima=arima,arch_garch=arch_garch)\n",
    "TS.RunSimulation(simulations)\n",
    "TS.Simulation_Statistics()\n"
   ],
   "metadata": {
    "collapsed": false,
    "pycharm": {
     "name": "#%%\n"
    }
   }
  },
  {
   "cell_type": "code",
   "execution_count": null,
   "outputs": [],
   "source": [
    "arch_garch = dict(vol='GARCH', p=1, q=1, mean=\"Constant\", rescale=True, dist='skewt') # These are default values, can be changed\n",
    "TS = TimeSeries_MonteCarlo(ticker=ticker, period=period, model=model, horizon=horizon, trading_days=trading_days, options_info=options_info, risk_free_rate=risk_free_rate, arima=arima,arch_garch=arch_garch)\n",
    "print(TS.fitted_model.params)\n",
    "TS.RunSimulation(simulations)\n",
    "TS.Simulation_Statistics()\n"
   ],
   "metadata": {
    "collapsed": false,
    "pycharm": {
     "name": "#%%\n"
    }
   }
  }
 ],
 "metadata": {
  "kernelspec": {
   "name": "data_science",
   "language": "python",
   "display_name": "data_science"
  },
  "language_info": {
   "codemirror_mode": {
    "name": "ipython",
    "version": 2
   },
   "file_extension": ".py",
   "mimetype": "text/x-python",
   "name": "python",
   "nbconvert_exporter": "python",
   "pygments_lexer": "ipython2",
   "version": "2.7.6"
  }
 },
 "nbformat": 4,
 "nbformat_minor": 0
}